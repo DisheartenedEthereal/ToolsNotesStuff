{
 "cells": [
  {
   "cell_type": "code",
   "execution_count": null,
   "id": "f7f4a65b",
   "metadata": {},
   "outputs": [],
   "source": [
    "#!/usr/bin/python\n",
    "\n",
    "\n",
    "def collect():\n",
    "    pass\n",
    "\n",
    "def pop():\n",
    "\n",
    "    import numpy as np\n",
    "    import pandas as pd\n",
    "\n",
    "\n",
    "    cities = ['Berlin', 'Frankfurt', 'Hamburg',\n",
    "            'Nuremberg', 'Munich', 'Stuttgart',\n",
    "             'Hanover', 'Saarbruecken', 'Cologne',\n",
    "              'Constance', 'Freiburg', 'Karlsruhe'\n",
    "             ]\n",
    "\n",
    "    n= len(cities)\n",
    "    data ={'Temperature': np.random.normal(24, 3, n),\n",
    "            'Humidity': np.random.normal(78, 2.5, n),\n",
    "            'Wind': np.random.normal(15, 4, n)\n",
    "           }\n",
    "    df = pd.DataFrame(data=data, index=cities)\n",
    "    df.to_csv(\"../assets/stats.csv\")\n",
    "    df\n",
    "\n",
    "pop()\n",
    "\n"
   ]
  }
 ],
 "metadata": {
  "kernelspec": {
   "display_name": "Python 3",
   "language": "python",
   "name": "python3"
  },
  "language_info": {
   "codemirror_mode": {
    "name": "ipython",
    "version": 3
   },
   "file_extension": ".py",
   "mimetype": "text/x-python",
   "name": "python",
   "nbconvert_exporter": "python",
   "pygments_lexer": "ipython3",
   "version": "3.9.4"
  }
 },
 "nbformat": 4,
 "nbformat_minor": 5
}
